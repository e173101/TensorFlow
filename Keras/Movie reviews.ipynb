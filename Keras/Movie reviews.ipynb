{
 "cells": [
  {
   "cell_type": "code",
   "execution_count": 1,
   "metadata": {},
   "outputs": [
    {
     "name": "stdout",
     "output_type": "stream",
     "text": [
      "1.8.0\n"
     ]
    }
   ],
   "source": [
    "import tensorflow as tf\n",
    "from tensorflow import keras\n",
    "\n",
    "import numpy as np\n",
    "\n",
    "print(tf.__version__)"
   ]
  },
  {
   "cell_type": "code",
   "execution_count": 3,
   "metadata": {},
   "outputs": [
    {
     "name": "stdout",
     "output_type": "stream",
     "text": [
      "Downloading data from https://s3.amazonaws.com/text-datasets/imdb.npz\n",
      "17465344/17464789 [==============================] - 184s 11us/step\n"
     ]
    }
   ],
   "source": [
    "imdb = keras.datasets.imdb\n",
    "\n",
    "(train_data, train_labels), (test_data, test_labels) = imdb.load_data(num_words=10000)"
   ]
  },
  {
   "cell_type": "code",
   "execution_count": 6,
   "metadata": {},
   "outputs": [
    {
     "name": "stdout",
     "output_type": "stream",
     "text": [
      "Training entries: 25000, labels: 25000\n"
     ]
    }
   ],
   "source": [
    "print(\"Training entries: %s, labels: %s\" % (len(train_data), len(train_labels)))"
   ]
  },
  {
   "cell_type": "code",
   "execution_count": 7,
   "metadata": {},
   "outputs": [
    {
     "name": "stdout",
     "output_type": "stream",
     "text": [
      "[1, 14, 22, 16, 43, 530, 973, 1622, 1385, 65, 458, 4468, 66, 3941, 4, 173, 36, 256, 5, 25, 100, 43, 838, 112, 50, 670, 2, 9, 35, 480, 284, 5, 150, 4, 172, 112, 167, 2, 336, 385, 39, 4, 172, 4536, 1111, 17, 546, 38, 13, 447, 4, 192, 50, 16, 6, 147, 2025, 19, 14, 22, 4, 1920, 4613, 469, 4, 22, 71, 87, 12, 16, 43, 530, 38, 76, 15, 13, 1247, 4, 22, 17, 515, 17, 12, 16, 626, 18, 2, 5, 62, 386, 12, 8, 316, 8, 106, 5, 4, 2223, 5244, 16, 480, 66, 3785, 33, 4, 130, 12, 16, 38, 619, 5, 25, 124, 51, 36, 135, 48, 25, 1415, 33, 6, 22, 12, 215, 28, 77, 52, 5, 14, 407, 16, 82, 2, 8, 4, 107, 117, 5952, 15, 256, 4, 2, 7, 3766, 5, 723, 36, 71, 43, 530, 476, 26, 400, 317, 46, 7, 4, 2, 1029, 13, 104, 88, 4, 381, 15, 297, 98, 32, 2071, 56, 26, 141, 6, 194, 7486, 18, 4, 226, 22, 21, 134, 476, 26, 480, 5, 144, 30, 5535, 18, 51, 36, 28, 224, 92, 25, 104, 4, 226, 65, 16, 38, 1334, 88, 12, 16, 283, 5, 16, 4472, 113, 103, 32, 15, 16, 5345, 19, 178, 32]\n"
     ]
    }
   ],
   "source": [
    "print(train_data[0])"
   ]
  },
  {
   "cell_type": "code",
   "execution_count": 8,
   "metadata": {},
   "outputs": [
    {
     "data": {
      "text/plain": [
       "(218, 189)"
      ]
     },
     "execution_count": 8,
     "metadata": {},
     "output_type": "execute_result"
    }
   ],
   "source": [
    "len(train_data[0]), len(train_data[1])"
   ]
  },
  {
   "cell_type": "code",
   "execution_count": 10,
   "metadata": {},
   "outputs": [
    {
     "name": "stdout",
     "output_type": "stream",
     "text": [
      "Downloading data from https://s3.amazonaws.com/text-datasets/imdb_word_index.json\n",
      "1646592/1641221 [==============================] - 27s 17us/step\n"
     ]
    }
   ],
   "source": [
    "# A dictionary mapping words to an integer index\n",
    "word_index = imdb.get_word_index()\n",
    "\n",
    "# The first indices are reserved\n",
    "word_index = {k:(v+3) for k,v in word_index.items()} \n",
    "word_index[\"<PAD>\"] = 0\n",
    "word_index[\"<START>\"] = 1\n",
    "word_index[\"<UNK>\"] = 2  # unknown\n",
    "word_index[\"<UNUSED>\"] = 3\n",
    "\n",
    "reverse_word_index = dict([(value, key) for (key, value) in word_index.items()])\n",
    "\n",
    "def decode_review(text):\n",
    "    return ' '.join([reverse_word_index.get(i, '?') for i in text])\n"
   ]
  },
  {
   "cell_type": "code",
   "execution_count": 12,
   "metadata": {},
   "outputs": [
    {
     "data": {
      "text/plain": [
       "\"<START> big hair big boobs bad music and a giant safety pin these are the words to best describe this terrible movie i love cheesy horror movies and i've seen hundreds but this had got to be on of the worst ever made the plot is paper thin and ridiculous the acting is an abomination the script is completely laughable the best is the end showdown with the cop and how he worked out who the killer is it's just so damn terribly written the clothes are sickening and funny in equal <UNK> the hair is big lots of boobs <UNK> men wear those cut <UNK> shirts that show off their <UNK> sickening that men actually wore them and the music is just <UNK> trash that plays over and over again in almost every scene there is trashy music boobs and <UNK> taking away bodies and the gym still doesn't close for <UNK> all joking aside this is a truly bad film whose only charm is to look back on the disaster that was the 80's and have a good old laugh at how bad everything was back then\""
      ]
     },
     "execution_count": 12,
     "metadata": {},
     "output_type": "execute_result"
    }
   ],
   "source": [
    "decode_review(train_data[1])"
   ]
  },
  {
   "cell_type": "code",
   "execution_count": 13,
   "metadata": {},
   "outputs": [],
   "source": [
    "train_data = keras.preprocessing.sequence.pad_sequences(train_data,\n",
    "                                                        value=word_index[\"<PAD>\"],\n",
    "                                                        padding='post',\n",
    "                                                        maxlen=256)\n",
    "\n",
    "test_data = keras.preprocessing.sequence.pad_sequences(test_data,\n",
    "                                                       value=word_index[\"<PAD>\"],\n",
    "                                                       padding='post',\n",
    "                                                       maxlen=256)"
   ]
  },
  {
   "cell_type": "code",
   "execution_count": 14,
   "metadata": {},
   "outputs": [
    {
     "data": {
      "text/plain": [
       "(256, 256)"
      ]
     },
     "execution_count": 14,
     "metadata": {},
     "output_type": "execute_result"
    }
   ],
   "source": [
    "len(train_data[0]), len(train_data[1])"
   ]
  },
  {
   "cell_type": "code",
   "execution_count": 15,
   "metadata": {},
   "outputs": [
    {
     "name": "stdout",
     "output_type": "stream",
     "text": [
      "[   1   14   22   16   43  530  973 1622 1385   65  458 4468   66 3941\n",
      "    4  173   36  256    5   25  100   43  838  112   50  670    2    9\n",
      "   35  480  284    5  150    4  172  112  167    2  336  385   39    4\n",
      "  172 4536 1111   17  546   38   13  447    4  192   50   16    6  147\n",
      " 2025   19   14   22    4 1920 4613  469    4   22   71   87   12   16\n",
      "   43  530   38   76   15   13 1247    4   22   17  515   17   12   16\n",
      "  626   18    2    5   62  386   12    8  316    8  106    5    4 2223\n",
      " 5244   16  480   66 3785   33    4  130   12   16   38  619    5   25\n",
      "  124   51   36  135   48   25 1415   33    6   22   12  215   28   77\n",
      "   52    5   14  407   16   82    2    8    4  107  117 5952   15  256\n",
      "    4    2    7 3766    5  723   36   71   43  530  476   26  400  317\n",
      "   46    7    4    2 1029   13  104   88    4  381   15  297   98   32\n",
      " 2071   56   26  141    6  194 7486   18    4  226   22   21  134  476\n",
      "   26  480    5  144   30 5535   18   51   36   28  224   92   25  104\n",
      "    4  226   65   16   38 1334   88   12   16  283    5   16 4472  113\n",
      "  103   32   15   16 5345   19  178   32    0    0    0    0    0    0\n",
      "    0    0    0    0    0    0    0    0    0    0    0    0    0    0\n",
      "    0    0    0    0    0    0    0    0    0    0    0    0    0    0\n",
      "    0    0    0    0]\n"
     ]
    }
   ],
   "source": [
    "print(train_data[0])"
   ]
  },
  {
   "cell_type": "code",
   "execution_count": 16,
   "metadata": {},
   "outputs": [
    {
     "name": "stdout",
     "output_type": "stream",
     "text": [
      "_________________________________________________________________\n",
      "Layer (type)                 Output Shape              Param #   \n",
      "=================================================================\n",
      "embedding_1 (Embedding)      (None, None, 16)          160000    \n",
      "_________________________________________________________________\n",
      "global_average_pooling1d_1 ( (None, 16)                0         \n",
      "_________________________________________________________________\n",
      "dense_1 (Dense)              (None, 16)                272       \n",
      "_________________________________________________________________\n",
      "dense_2 (Dense)              (None, 1)                 17        \n",
      "=================================================================\n",
      "Total params: 160,289\n",
      "Trainable params: 160,289\n",
      "Non-trainable params: 0\n",
      "_________________________________________________________________\n"
     ]
    }
   ],
   "source": [
    "# input shape is the vocabulary count used for the movie reviews (10,000 words)\n",
    "vocab_size = 10000\n",
    "\n",
    "model = keras.Sequential()\n",
    "model.add(keras.layers.Embedding(vocab_size, 16))\n",
    "model.add(keras.layers.GlobalAveragePooling1D())\n",
    "model.add(keras.layers.Dense(16, activation=tf.nn.relu))\n",
    "model.add(keras.layers.Dense(1, activation=tf.nn.sigmoid))\n",
    "\n",
    "model.summary()\n"
   ]
  },
  {
   "cell_type": "code",
   "execution_count": 17,
   "metadata": {},
   "outputs": [],
   "source": [
    "model.compile(optimizer=tf.train.AdamOptimizer(),\n",
    "              loss='binary_crossentropy',\n",
    "              metrics=['accuracy'])"
   ]
  },
  {
   "cell_type": "code",
   "execution_count": 18,
   "metadata": {},
   "outputs": [],
   "source": [
    "x_val = train_data[:10000]\n",
    "partial_x_train = train_data[10000:]\n",
    "\n",
    "y_val = train_labels[:10000]\n",
    "partial_y_train = train_labels[10000:]"
   ]
  },
  {
   "cell_type": "code",
   "execution_count": 19,
   "metadata": {},
   "outputs": [
    {
     "name": "stdout",
     "output_type": "stream",
     "text": [
      "Train on 15000 samples, validate on 10000 samples\n",
      "Epoch 1/40\n",
      "15000/15000 [==============================] - 2s 128us/step - loss: 0.7136 - acc: 0.5053 - val_loss: 0.6924 - val_acc: 0.5211\n",
      "Epoch 2/40\n",
      "15000/15000 [==============================] - 0s 31us/step - loss: 0.6914 - acc: 0.5267 - val_loss: 0.6903 - val_acc: 0.5310\n",
      "Epoch 3/40\n",
      "15000/15000 [==============================] - 0s 31us/step - loss: 0.6891 - acc: 0.5543 - val_loss: 0.6886 - val_acc: 0.5650\n",
      "Epoch 4/40\n",
      "15000/15000 [==============================] - 0s 31us/step - loss: 0.6869 - acc: 0.6028 - val_loss: 0.6863 - val_acc: 0.5964\n",
      "Epoch 5/40\n",
      "15000/15000 [==============================] - 0s 31us/step - loss: 0.6840 - acc: 0.6140 - val_loss: 0.6833 - val_acc: 0.6604\n",
      "Epoch 6/40\n",
      "15000/15000 [==============================] - 0s 32us/step - loss: 0.6804 - acc: 0.6987 - val_loss: 0.6794 - val_acc: 0.7098\n",
      "Epoch 7/40\n",
      "15000/15000 [==============================] - 0s 31us/step - loss: 0.6754 - acc: 0.7309 - val_loss: 0.6745 - val_acc: 0.7085\n",
      "Epoch 8/40\n",
      "15000/15000 [==============================] - 0s 31us/step - loss: 0.6686 - acc: 0.7437 - val_loss: 0.6669 - val_acc: 0.7428\n",
      "Epoch 9/40\n",
      "15000/15000 [==============================] - 0s 32us/step - loss: 0.6589 - acc: 0.7672 - val_loss: 0.6564 - val_acc: 0.7537\n",
      "Epoch 10/40\n",
      "15000/15000 [==============================] - 0s 31us/step - loss: 0.6452 - acc: 0.7796 - val_loss: 0.6417 - val_acc: 0.7656\n",
      "Epoch 11/40\n",
      "15000/15000 [==============================] - 0s 32us/step - loss: 0.6272 - acc: 0.7732 - val_loss: 0.6226 - val_acc: 0.7725\n",
      "Epoch 12/40\n",
      "15000/15000 [==============================] - 0s 31us/step - loss: 0.6033 - acc: 0.7875 - val_loss: 0.5988 - val_acc: 0.7765\n",
      "Epoch 13/40\n",
      "15000/15000 [==============================] - 0s 31us/step - loss: 0.5749 - acc: 0.7993 - val_loss: 0.5728 - val_acc: 0.7861\n",
      "Epoch 14/40\n",
      "15000/15000 [==============================] - 0s 32us/step - loss: 0.5440 - acc: 0.8083 - val_loss: 0.5431 - val_acc: 0.7967\n",
      "Epoch 15/40\n",
      "15000/15000 [==============================] - 0s 32us/step - loss: 0.5112 - acc: 0.8199 - val_loss: 0.5132 - val_acc: 0.8058\n",
      "Epoch 16/40\n",
      "15000/15000 [==============================] - 0s 32us/step - loss: 0.4794 - acc: 0.8298 - val_loss: 0.4851 - val_acc: 0.8169\n",
      "Epoch 17/40\n",
      "15000/15000 [==============================] - 0s 32us/step - loss: 0.4479 - acc: 0.8438 - val_loss: 0.4589 - val_acc: 0.8298\n",
      "Epoch 18/40\n",
      "15000/15000 [==============================] - 0s 32us/step - loss: 0.4191 - acc: 0.8566 - val_loss: 0.4337 - val_acc: 0.8376\n",
      "Epoch 19/40\n",
      "15000/15000 [==============================] - 0s 32us/step - loss: 0.3923 - acc: 0.8666 - val_loss: 0.4115 - val_acc: 0.8456\n",
      "Epoch 20/40\n",
      "15000/15000 [==============================] - 0s 33us/step - loss: 0.3682 - acc: 0.8740 - val_loss: 0.3922 - val_acc: 0.8513\n",
      "Epoch 21/40\n",
      "15000/15000 [==============================] - 0s 31us/step - loss: 0.3467 - acc: 0.8803 - val_loss: 0.3758 - val_acc: 0.8574\n",
      "Epoch 22/40\n",
      "15000/15000 [==============================] - 0s 31us/step - loss: 0.3282 - acc: 0.8865 - val_loss: 0.3621 - val_acc: 0.8611\n",
      "Epoch 23/40\n",
      "15000/15000 [==============================] - 0s 32us/step - loss: 0.3123 - acc: 0.8909 - val_loss: 0.3511 - val_acc: 0.8649\n",
      "Epoch 24/40\n",
      "15000/15000 [==============================] - 0s 32us/step - loss: 0.2978 - acc: 0.8946 - val_loss: 0.3411 - val_acc: 0.8684\n",
      "Epoch 25/40\n",
      "15000/15000 [==============================] - 0s 32us/step - loss: 0.2854 - acc: 0.8995 - val_loss: 0.3330 - val_acc: 0.8701\n",
      "Epoch 26/40\n",
      "15000/15000 [==============================] - 0s 31us/step - loss: 0.2740 - acc: 0.9010 - val_loss: 0.3265 - val_acc: 0.8729\n",
      "Epoch 27/40\n",
      "15000/15000 [==============================] - 0s 32us/step - loss: 0.2643 - acc: 0.9034 - val_loss: 0.3203 - val_acc: 0.8736\n",
      "Epoch 28/40\n",
      "15000/15000 [==============================] - 0s 31us/step - loss: 0.2546 - acc: 0.9086 - val_loss: 0.3150 - val_acc: 0.8758\n",
      "Epoch 29/40\n",
      "15000/15000 [==============================] - 0s 31us/step - loss: 0.2462 - acc: 0.9110 - val_loss: 0.3110 - val_acc: 0.8770\n",
      "Epoch 30/40\n",
      "15000/15000 [==============================] - 0s 33us/step - loss: 0.2390 - acc: 0.9117 - val_loss: 0.3069 - val_acc: 0.8771\n",
      "Epoch 31/40\n",
      "15000/15000 [==============================] - 0s 31us/step - loss: 0.2309 - acc: 0.9166 - val_loss: 0.3039 - val_acc: 0.8788\n",
      "Epoch 32/40\n",
      "15000/15000 [==============================] - 0s 31us/step - loss: 0.2246 - acc: 0.9187 - val_loss: 0.3010 - val_acc: 0.8809\n",
      "Epoch 33/40\n",
      "15000/15000 [==============================] - 0s 32us/step - loss: 0.2173 - acc: 0.9210 - val_loss: 0.2985 - val_acc: 0.8817\n",
      "Epoch 34/40\n",
      "15000/15000 [==============================] - 0s 32us/step - loss: 0.2113 - acc: 0.9241 - val_loss: 0.2965 - val_acc: 0.8829\n",
      "Epoch 35/40\n",
      "15000/15000 [==============================] - 0s 32us/step - loss: 0.2059 - acc: 0.9256 - val_loss: 0.2945 - val_acc: 0.8826\n",
      "Epoch 36/40\n",
      "15000/15000 [==============================] - 0s 31us/step - loss: 0.1998 - acc: 0.9287 - val_loss: 0.2930 - val_acc: 0.8827\n",
      "Epoch 37/40\n",
      "15000/15000 [==============================] - 0s 31us/step - loss: 0.1945 - acc: 0.9317 - val_loss: 0.2918 - val_acc: 0.8843\n",
      "Epoch 38/40\n",
      "15000/15000 [==============================] - 0s 30us/step - loss: 0.1896 - acc: 0.9323 - val_loss: 0.2904 - val_acc: 0.8842\n",
      "Epoch 39/40\n",
      "15000/15000 [==============================] - 0s 32us/step - loss: 0.1843 - acc: 0.9361 - val_loss: 0.2895 - val_acc: 0.8840\n",
      "Epoch 40/40\n",
      "15000/15000 [==============================] - 0s 32us/step - loss: 0.1796 - acc: 0.9379 - val_loss: 0.2886 - val_acc: 0.8850\n"
     ]
    }
   ],
   "source": [
    "history = model.fit(partial_x_train,\n",
    "                    partial_y_train,\n",
    "                    epochs=40,\n",
    "                    batch_size=512,\n",
    "                    validation_data=(x_val, y_val),\n",
    "                    verbose=1)"
   ]
  },
  {
   "cell_type": "code",
   "execution_count": 20,
   "metadata": {},
   "outputs": [
    {
     "name": "stdout",
     "output_type": "stream",
     "text": [
      "25000/25000 [==============================] - 1s 32us/step\n",
      "[0.30354666015625, 0.87536]\n"
     ]
    }
   ],
   "source": [
    "results = model.evaluate(test_data, test_labels)\n",
    "\n",
    "print(results)"
   ]
  },
  {
   "cell_type": "code",
   "execution_count": null,
   "metadata": {},
   "outputs": [],
   "source": []
  }
 ],
 "metadata": {
  "kernelspec": {
   "display_name": "Python 3",
   "language": "python",
   "name": "python3"
  },
  "language_info": {
   "codemirror_mode": {
    "name": "ipython",
    "version": 3
   },
   "file_extension": ".py",
   "mimetype": "text/x-python",
   "name": "python",
   "nbconvert_exporter": "python",
   "pygments_lexer": "ipython3",
   "version": "3.6.5"
  }
 },
 "nbformat": 4,
 "nbformat_minor": 2
}
