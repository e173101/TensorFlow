{
 "cells": [
  {
   "cell_type": "code",
   "execution_count": 13,
   "metadata": {},
   "outputs": [],
   "source": [
    "import os\n",
    "import glob\n",
    "import numpy as np"
   ]
  },
  {
   "cell_type": "code",
   "execution_count": 11,
   "metadata": {},
   "outputs": [],
   "source": [
    "input_dir = 'F:\\datesets\\dlib_faces_5points\\images'\n",
    "#output_dir', None, \"output_dir\")\n",
    "#'istrain', False, \"istrain\")\n",
    "#'repeat', 1, 'repeat')\n",
    "#'img_size', 112, 'img_size')\n",
    "mirror_file = 'F:\\datesets\\Mirror68.txt'"
   ]
  },
  {
   "cell_type": "code",
   "execution_count": 8,
   "metadata": {},
   "outputs": [],
   "source": [
    "def _get_filenames(data_dir, listext):\n",
    "    imagelist = []\n",
    "    for ext in listext:\n",
    "        p = os.path.join(data_dir, ext)\n",
    "        imagelist.extend(glob.glob(p))\n",
    "\n",
    "    ptslist = []\n",
    "    for image in imagelist:\n",
    "        ptslist.append(os.path.splitext(image)[0] + \".pts\")\n",
    "\n",
    "    return imagelist, ptslist"
   ]
  },
  {
   "cell_type": "code",
   "execution_count": 14,
   "metadata": {},
   "outputs": [],
   "source": [
    "#main\n",
    "imagenames, ptsnames = _get_filenames(input_dir, [\"*.jpg\", \"*.png\"])\n",
    "mirror_array = np.genfromtxt(mirror_file, dtype=int, delimiter=',') if mirror_file else np.zeros(1)"
   ]
  },
  {
   "cell_type": "code",
   "execution_count": 16,
   "metadata": {},
   "outputs": [
    {
     "name": "stdout",
     "output_type": "stream",
     "text": [
      "[16 15 14 13 12 11 10  9  8  7  6  5  4  3  2  1  0 26 25 24 23 22 21 20\n",
      " 19 18 17 27 28 29 30 35 34 33 32 31 45 44 43 42 47 46 39 38 37 36 41 40\n",
      " 54 53 52 51 50 49 48 59 58 57 56 55 64 63 62 61 60 67 66 65]\n"
     ]
    }
   ],
   "source": [
    "print(mirror_array)"
   ]
  },
  {
   "cell_type": "code",
   "execution_count": null,
   "metadata": {},
   "outputs": [],
   "source": []
  }
 ],
 "metadata": {
  "kernelspec": {
   "display_name": "Python 3",
   "language": "python",
   "name": "python3"
  },
  "language_info": {
   "codemirror_mode": {
    "name": "ipython",
    "version": 3
   },
   "file_extension": ".py",
   "mimetype": "text/x-python",
   "name": "python",
   "nbconvert_exporter": "python",
   "pygments_lexer": "ipython3",
   "version": "3.5.5"
  }
 },
 "nbformat": 4,
 "nbformat_minor": 2
}
