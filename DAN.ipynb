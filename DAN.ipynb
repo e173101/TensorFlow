{
 "cells": [
  {
   "cell_type": "code",
   "execution_count": 42,
   "metadata": {},
   "outputs": [],
   "source": [
    "import os\n",
    "import glob\n",
    "import numpy as np\n",
    "import tensorflow as tf"
   ]
  },
  {
   "cell_type": "code",
   "execution_count": 36,
   "metadata": {},
   "outputs": [],
   "source": [
    "input_dir = 'F:\\\\datesets\\\\300W\\\\test\\\\'\n",
    "#output_dir', None, \"output_dir\")\n",
    "istrain = True\n",
    "repeat = 1 #??\n",
    "#'img_size', 112, 'img_size')\n",
    "mirror_file = 'F:\\\\datesets\\\\Mirror68.txt'\n",
    "BATCH_SIZE = 128"
   ]
  },
  {
   "cell_type": "code",
   "execution_count": 37,
   "metadata": {},
   "outputs": [],
   "source": [
    "def _input_fn(img, pts, is_train,mirror_array):\n",
    "    dataset_image = tf.data.Dataset.from_tensor_slices(img)\n",
    "    dataset_pts = tf.data.Dataset.from_tensor_slices(pts)\n",
    "    dataset = tf.data.Dataset.zip((dataset_image, dataset_pts))\n",
    "\n",
    "    dataset = dataset.prefetch(BATCH_SIZE)\n",
    "    dataset = dataset.repeat(repeat)\n",
    "    dataset = dataset.map(lambda imagepath, ptspath: tuple(tf.py_func(_load_data, [\n",
    "                          imagepath, ptspath, is_train,mirror_array], [tf.uint8,tf.float32])), num_parallel_calls=8)                     \n",
    "    dataset = dataset.prefetch(1)\n",
    "\n",
    "    return dataset"
   ]
  },
  {
   "cell_type": "code",
   "execution_count": 38,
   "metadata": {},
   "outputs": [],
   "source": [
    "def _get_filenames(data_dir, listext):\n",
    "    imagelist = []\n",
    "    for ext in listext:\n",
    "        p = os.path.join(data_dir, ext)\n",
    "        imagelist.extend(glob.glob(p))\n",
    "\n",
    "    ptslist = []\n",
    "    for image in imagelist:\n",
    "        ptslist.append(os.path.splitext(image)[0] + \".pts\")\n",
    "\n",
    "    return imagelist, ptslist"
   ]
  },
  {
   "cell_type": "code",
   "execution_count": 43,
   "metadata": {},
   "outputs": [
    {
     "name": "stdout",
     "output_type": "stream",
     "text": [
      "['*.jpg', '*.png']\n"
     ]
    },
    {
     "ename": "NameError",
     "evalue": "name 'FLAGS' is not defined",
     "output_type": "error",
     "traceback": [
      "\u001b[1;31m---------------------------------------------------------------------------\u001b[0m",
      "\u001b[1;31mNameError\u001b[0m                                 Traceback (most recent call last)",
      "\u001b[1;32m<ipython-input-43-4a5edb6d2be5>\u001b[0m in \u001b[0;36m<module>\u001b[1;34m()\u001b[0m\n\u001b[0;32m      3\u001b[0m \u001b[0mmirror_array\u001b[0m \u001b[1;33m=\u001b[0m \u001b[0mnp\u001b[0m\u001b[1;33m.\u001b[0m\u001b[0mgenfromtxt\u001b[0m\u001b[1;33m(\u001b[0m\u001b[0mmirror_file\u001b[0m\u001b[1;33m,\u001b[0m \u001b[0mdtype\u001b[0m\u001b[1;33m=\u001b[0m\u001b[0mint\u001b[0m\u001b[1;33m,\u001b[0m \u001b[0mdelimiter\u001b[0m\u001b[1;33m=\u001b[0m\u001b[1;34m','\u001b[0m\u001b[1;33m)\u001b[0m \u001b[1;32mif\u001b[0m \u001b[0mmirror_file\u001b[0m \u001b[1;32melse\u001b[0m \u001b[0mnp\u001b[0m\u001b[1;33m.\u001b[0m\u001b[0mzeros\u001b[0m\u001b[1;33m(\u001b[0m\u001b[1;36m1\u001b[0m\u001b[1;33m)\u001b[0m\u001b[1;33m\u001b[0m\u001b[0m\n\u001b[0;32m      4\u001b[0m \u001b[1;33m\u001b[0m\u001b[0m\n\u001b[1;32m----> 5\u001b[1;33m \u001b[0mdataset\u001b[0m \u001b[1;33m=\u001b[0m \u001b[0m_input_fn\u001b[0m\u001b[1;33m(\u001b[0m\u001b[0mimagenames\u001b[0m\u001b[1;33m,\u001b[0m\u001b[0mptsnames\u001b[0m\u001b[1;33m,\u001b[0m\u001b[0mistrain\u001b[0m\u001b[1;33m,\u001b[0m\u001b[0mmirror_array\u001b[0m\u001b[1;33m)\u001b[0m\u001b[1;33m\u001b[0m\u001b[0m\n\u001b[0m",
      "\u001b[1;32m<ipython-input-37-6865dde61564>\u001b[0m in \u001b[0;36m_input_fn\u001b[1;34m(img, pts, is_train, mirror_array)\u001b[0m\n\u001b[0;32m      5\u001b[0m \u001b[1;33m\u001b[0m\u001b[0m\n\u001b[0;32m      6\u001b[0m     \u001b[0mdataset\u001b[0m \u001b[1;33m=\u001b[0m \u001b[0mdataset\u001b[0m\u001b[1;33m.\u001b[0m\u001b[0mprefetch\u001b[0m\u001b[1;33m(\u001b[0m\u001b[0mBATCH_SIZE\u001b[0m\u001b[1;33m)\u001b[0m\u001b[1;33m\u001b[0m\u001b[0m\n\u001b[1;32m----> 7\u001b[1;33m     \u001b[0mdataset\u001b[0m \u001b[1;33m=\u001b[0m \u001b[0mdataset\u001b[0m\u001b[1;33m.\u001b[0m\u001b[0mrepeat\u001b[0m\u001b[1;33m(\u001b[0m\u001b[0mFLAGS\u001b[0m\u001b[1;33m.\u001b[0m\u001b[0mrepeat\u001b[0m\u001b[1;33m)\u001b[0m\u001b[1;33m\u001b[0m\u001b[0m\n\u001b[0m\u001b[0;32m      8\u001b[0m     dataset = dataset.map(lambda imagepath, ptspath: tuple(tf.py_func(_load_data, [\n\u001b[0;32m      9\u001b[0m                           imagepath, ptspath, is_train,mirror_array], [tf.uint8,tf.float32])), num_parallel_calls=8)                     \n",
      "\u001b[1;31mNameError\u001b[0m: name 'FLAGS' is not defined"
     ]
    }
   ],
   "source": [
    "#main\n",
    "imagenames, ptsnames = _get_filenames(input_dir, [\"*.jpg\", \"*.png\"])\n",
    "mirror_array = np.genfromtxt(mirror_file, dtype=int, delimiter=',') if mirror_file else np.zeros(1)\n",
    "\n",
    "dataset = _input_fn(imagenames,ptsnames,istrain,mirror_array)"
   ]
  },
  {
   "cell_type": "code",
   "execution_count": 40,
   "metadata": {},
   "outputs": [
    {
     "name": "stdout",
     "output_type": "stream",
     "text": [
      "['F:\\\\datesets\\\\300W\\\\test\\\\indoor_001.pts', 'F:\\\\datesets\\\\300W\\\\test\\\\indoor_002.pts', 'F:\\\\datesets\\\\300W\\\\test\\\\indoor_003.pts', 'F:\\\\datesets\\\\300W\\\\test\\\\indoor_004.pts']\n"
     ]
    }
   ],
   "source": [
    "print(ptsnames)"
   ]
  },
  {
   "cell_type": "code",
   "execution_count": null,
   "metadata": {},
   "outputs": [],
   "source": []
  }
 ],
 "metadata": {
  "kernelspec": {
   "display_name": "Python 3",
   "language": "python",
   "name": "python3"
  },
  "language_info": {
   "codemirror_mode": {
    "name": "ipython",
    "version": 3
   },
   "file_extension": ".py",
   "mimetype": "text/x-python",
   "name": "python",
   "nbconvert_exporter": "python",
   "pygments_lexer": "ipython3",
   "version": "3.5.5"
  }
 },
 "nbformat": 4,
 "nbformat_minor": 2
}
