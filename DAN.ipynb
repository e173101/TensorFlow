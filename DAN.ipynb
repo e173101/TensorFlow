{
 "cells": [
  {
   "cell_type": "code",
   "execution_count": 35,
   "metadata": {},
   "outputs": [],
   "source": [
    "import dan_model\n",
    "import dan_run_loop\n",
    "import os\n",
    "import numpy as np\n",
    "from PIL import Image "
   ]
  },
  {
   "cell_type": "code",
   "execution_count": 13,
   "metadata": {},
   "outputs": [],
   "source": [
    "def get_synth_input_fn():\n",
    "    return dan_run_loop.get_synth_input_fn(112, 112, 1, 68)"
   ]
  },
  {
   "cell_type": "code",
   "execution_count": 14,
   "metadata": {},
   "outputs": [],
   "source": [
    "def read_dataset_info(data_dir):\n",
    "    mean_shape = np.loadtxt(os.path.join(data_dir,'mean_shape.ptv'),dtype=np.float32,delimiter=',')\n",
    "    imgs_mean = np.loadtxt(os.path.join(data_dir,'imgs_mean.ptv'),dtype=np.float32,delimiter=',')\n",
    "    imgs_std = np.loadtxt(os.path.join(data_dir,'imgs_std.ptv'),dtype=np.float32,delimiter=',')\n",
    "    return mean_shape.astype(np.float32) ,imgs_mean.astype(np.float32),imgs_std.astype(np.float32)"
   ]
  },
  {
   "cell_type": "code",
   "execution_count": 15,
   "metadata": {},
   "outputs": [],
   "source": [
    "mean_shape,imgs_mean,imgs_std = read_dataset_info('F:\\\\datesets\\\\300W\\\\01_Indoor_out')"
   ]
  },
  {
   "cell_type": "code",
   "execution_count": 31,
   "metadata": {},
   "outputs": [],
   "source": [
    "def vgg16_model_fn(features, labels, mode, params):\n",
    "        return dan_run_loop.dan_model_fn(features=features,\n",
    "                            groundtruth=labels,\n",
    "                            mode=mode,\n",
    "                            stage=params['dan_stage'],                                                    \n",
    "                            num_lmark=params['num_lmark'],\n",
    "                            model_class=VGG16Model,\n",
    "                            mean_shape=mean_shape,\n",
    "                            imgs_mean=imgs_mean,\n",
    "                            imgs_std=imgs_std,\n",
    "                            data_format=params['data_format'],\n",
    "                            multi_gpu=params['multi_gpu'])"
   ]
  },
  {
   "cell_type": "code",
   "execution_count": 32,
   "metadata": {},
   "outputs": [],
   "source": [
    "input_function = get_synth_input_fn() or vgg16_input_fn"
   ]
  },
  {
   "cell_type": "code",
   "execution_count": 33,
   "metadata": {},
   "outputs": [],
   "source": [
    "image = Image.fromarray(imgs_std)#\n",
    "image.show()  "
   ]
  },
  {
   "cell_type": "code",
   "execution_count": 36,
   "metadata": {},
   "outputs": [
    {
     "ename": "NameError",
     "evalue": "name 'parsers' is not defined",
     "output_type": "error",
     "traceback": [
      "\u001b[1;31m---------------------------------------------------------------------------\u001b[0m",
      "\u001b[1;31mNameError\u001b[0m                                 Traceback (most recent call last)",
      "\u001b[1;32m<ipython-input-36-936fceb1f10c>\u001b[0m in \u001b[0;36m<module>\u001b[1;34m()\u001b[0m\n\u001b[1;32m----> 1\u001b[1;33m \u001b[0mparser\u001b[0m \u001b[1;33m=\u001b[0m \u001b[0mdan_run_loop\u001b[0m\u001b[1;33m.\u001b[0m\u001b[0mDANArgParser\u001b[0m\u001b[1;33m(\u001b[0m\u001b[1;33m)\u001b[0m\u001b[1;33m\u001b[0m\u001b[0m\n\u001b[0m\u001b[0;32m      2\u001b[0m parser.set_defaults(data_dir='./data_dir',\n\u001b[0;32m      3\u001b[0m                         \u001b[0mmodel_dir\u001b[0m\u001b[1;33m=\u001b[0m\u001b[1;34m'./model_dir'\u001b[0m\u001b[1;33m,\u001b[0m\u001b[1;33m\u001b[0m\u001b[0m\n\u001b[0;32m      4\u001b[0m                         \u001b[0mdata_format\u001b[0m\u001b[1;33m=\u001b[0m\u001b[1;34m'channels_last'\u001b[0m\u001b[1;33m,\u001b[0m\u001b[1;33m\u001b[0m\u001b[0m\n\u001b[0;32m      5\u001b[0m                         \u001b[0mtrain_epochs\u001b[0m\u001b[1;33m=\u001b[0m\u001b[1;36m20\u001b[0m\u001b[1;33m,\u001b[0m\u001b[1;33m\u001b[0m\u001b[0m\n",
      "\u001b[1;32mD:\\TensorFlow_notes\\dan_run_loop.py\u001b[0m in \u001b[0;36m__init__\u001b[1;34m(self)\u001b[0m\n\u001b[0;32m    217\u001b[0m   \u001b[1;32mdef\u001b[0m \u001b[0m__init__\u001b[0m\u001b[1;33m(\u001b[0m\u001b[0mself\u001b[0m\u001b[1;33m)\u001b[0m\u001b[1;33m:\u001b[0m\u001b[1;33m\u001b[0m\u001b[0m\n\u001b[0;32m    218\u001b[0m     super(DANArgParser, self).__init__(parents=[\n\u001b[1;32m--> 219\u001b[1;33m         \u001b[0mparsers\u001b[0m\u001b[1;33m.\u001b[0m\u001b[0mBaseParser\u001b[0m\u001b[1;33m(\u001b[0m\u001b[1;33m)\u001b[0m\u001b[1;33m,\u001b[0m\u001b[1;33m\u001b[0m\u001b[0m\n\u001b[0m\u001b[0;32m    220\u001b[0m         \u001b[0mparsers\u001b[0m\u001b[1;33m.\u001b[0m\u001b[0mPerformanceParser\u001b[0m\u001b[1;33m(\u001b[0m\u001b[1;33m)\u001b[0m\u001b[1;33m,\u001b[0m\u001b[1;33m\u001b[0m\u001b[0m\n\u001b[0;32m    221\u001b[0m         \u001b[0mparsers\u001b[0m\u001b[1;33m.\u001b[0m\u001b[0mImageModelParser\u001b[0m\u001b[1;33m(\u001b[0m\u001b[1;33m)\u001b[0m\u001b[1;33m,\u001b[0m\u001b[1;33m\u001b[0m\u001b[0m\n",
      "\u001b[1;31mNameError\u001b[0m: name 'parsers' is not defined"
     ]
    }
   ],
   "source": [
    "parser = dan_run_loop.DANArgParser()\n",
    "parser.set_defaults(data_dir='./data_dir',\n",
    "                        model_dir='./model_dir',\n",
    "                        data_format='channels_last',\n",
    "                        train_epochs=20,\n",
    "                        epochs_per_eval=10,\n",
    "                        batch_size=64)\n",
    "\n",
    "flags = parser.parse_args(args=argv[1:])"
   ]
  },
  {
   "cell_type": "code",
   "execution_count": 23,
   "metadata": {},
   "outputs": [
    {
     "data": {
      "text/plain": [
       "argparse.Namespace"
      ]
     },
     "execution_count": 23,
     "metadata": {},
     "output_type": "execute_result"
    }
   ],
   "source": [
    "import argparse\n",
    "import sys\n",
    " \n",
    "parse=argparse.ArgumentParser()\n",
    "parse.add_argument(\"--learning_rate\",type=float,default=0.01,help=\"initial learining rate\")\n",
    "parse.add_argument(\"--max_steps\",type=int,default=2000,help=\"max\")\n",
    "parse.add_argument(\"--hidden1\",type=int,default=100,help=\"hidden1\")\n",
    "flags,unparsed=parse.parse_known_args(sys.argv[1:])\n",
    "type(flags)"
   ]
  },
  {
   "cell_type": "code",
   "execution_count": null,
   "metadata": {},
   "outputs": [],
   "source": []
  }
 ],
 "metadata": {
  "kernelspec": {
   "display_name": "Python 3",
   "language": "python",
   "name": "python3"
  },
  "language_info": {
   "codemirror_mode": {
    "name": "ipython",
    "version": 3
   },
   "file_extension": ".py",
   "mimetype": "text/x-python",
   "name": "python",
   "nbconvert_exporter": "python",
   "pygments_lexer": "ipython3",
   "version": "3.5.5"
  }
 },
 "nbformat": 4,
 "nbformat_minor": 2
}
