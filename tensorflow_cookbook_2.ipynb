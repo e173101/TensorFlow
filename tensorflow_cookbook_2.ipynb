{
 "cells": [
  {
   "cell_type": "code",
   "execution_count": 1,
   "metadata": {},
   "outputs": [],
   "source": [
    "import matplotlib.pyplot as plt\n",
    "import numpy as np\n",
    "import tensorflow as tf\n",
    "from sklearn import datasets\n",
    "from tensorflow.python.framework import ops\n",
    "ops.reset_default_graph()"
   ]
  },
  {
   "cell_type": "code",
   "execution_count": 2,
   "metadata": {},
   "outputs": [],
   "source": [
    "sess = tf.Session()"
   ]
  },
  {
   "cell_type": "code",
   "execution_count": 3,
   "metadata": {},
   "outputs": [],
   "source": [
    "x_vals = np.concatenate((np.random.normal(-1,1,50), np.random.normal(3,1,50)))\n",
    "y_vals = np.concatenate((np.repeat(0,50), np.repeat(1,50)))\n",
    "x_data = tf.placeholder(shape=[1], dtype=tf.float32)\n",
    "y_target = tf.placeholder(shape=[1], dtype=tf.float32)"
   ]
  },
  {
   "cell_type": "code",
   "execution_count": 4,
   "metadata": {},
   "outputs": [],
   "source": [
    "# Create variable (one model parameter = A)\n",
    "A = tf.Variable(tf.random_normal(mean = 10, shape=[1]),name='A')"
   ]
  },
  {
   "cell_type": "code",
   "execution_count": 5,
   "metadata": {},
   "outputs": [],
   "source": [
    "#Add operation to graph\n",
    "my_output = tf.add(x_data,A)\n",
    "my_output_expaneded = tf.expand_dims(my_output,0)\n",
    "y_target_expanded = tf.expand_dims(y_target,0)"
   ]
  },
  {
   "cell_type": "code",
   "execution_count": 6,
   "metadata": {},
   "outputs": [],
   "source": [
    "# Add L2 loss operation to graph\n",
    "xentropy = tf.nn.sigmoid_cross_entropy_with_logits(logits = my_output_expaneded, labels  = y_target_expanded)\n",
    "# xentropy = tf.nn.sigmoid_cross_entropy_with_logits(my_output_expaneded, y_target_expanded)"
   ]
  },
  {
   "cell_type": "code",
   "execution_count": 7,
   "metadata": {},
   "outputs": [],
   "source": [
    "# Initialize variables\n",
    "init = tf.global_variables_initializer()\n",
    "sess.run(init)"
   ]
  },
  {
   "cell_type": "code",
   "execution_count": 8,
   "metadata": {},
   "outputs": [],
   "source": [
    "# Create Optimizer\n",
    "my_opt = tf.train.GradientDescentOptimizer(0.05)\n",
    "train_step = my_opt.minimize(xentropy)"
   ]
  },
  {
   "cell_type": "code",
   "execution_count": 9,
   "metadata": {},
   "outputs": [
    {
     "name": "stdout",
     "output_type": "stream",
     "text": [
      "Step #1000 A = [-0.89949393]\n",
      "[[2.1853178]]\n",
      "Loss = [[0.10655759]]\n",
      "Step #2000 A = [-1.054525]\n",
      "[[-1.1584846]]\n",
      "Loss = [[0.27304673]]\n",
      "Step #3000 A = [-1.0661479]\n",
      "[[-1.749343]]\n",
      "Loss = [[0.16032144]]\n",
      "Step #4000 A = [-1.0385349]\n",
      "[[2.7035735]]\n",
      "Loss = [[0.0648189]]\n",
      "Step #5000 A = [-1.1292624]\n",
      "[[2.05911]]\n",
      "Loss = [[0.12006263]]\n",
      "Step #6000 A = [-1.2402918]\n",
      "[[0.795707]]\n",
      "Loss = [[0.37243357]]\n",
      "Step #7000 A = [-1.0753174]\n",
      "[[-0.87882423]]\n",
      "Loss = [[0.34732094]]\n",
      "Step #8000 A = [-1.156484]\n",
      "[[-0.3717134]]\n",
      "Loss = [[0.8961767]]\n",
      "Step #9000 A = [-1.106497]\n",
      "[[-0.20035762]]\n",
      "Loss = [[0.5979779]]\n",
      "Step #10000 A = [-0.95355475]\n",
      "[[0.6959573]]\n",
      "Loss = [[0.40452927]]\n"
     ]
    }
   ],
   "source": [
    "#Run loop\n",
    "for i in range (10000):\n",
    "    rand_index = np.random.choice(100)\n",
    "    rand_x = [x_vals[rand_index]]\n",
    "    rand_y = [y_vals[rand_index]]\n",
    "    sess.run(train_step, feed_dict={x_data: rand_x,y_target: rand_y})\n",
    "    if (i+1)%1000 == 0:\n",
    "        print('Step #' + str(i+1) + ' A = ' + str(sess.run(A)))\n",
    "        print(sess.run(my_output_expaneded, feed_dict={x_data: rand_x, y_target:rand_y}))\n",
    "        print('Loss = '+ str(sess.run(xentropy, feed_dict={x_data: rand_x, y_target:rand_y})))"
   ]
  },
  {
   "cell_type": "code",
   "execution_count": 24,
   "metadata": {},
   "outputs": [],
   "source": [
    "# Add summaries to tensorboard\n",
    "merged = tf.summary.merge_all()\n",
    "\n",
    "# Initialize graph writer:\n",
    "writer = tf.summary.FileWriter(\"/tmp/log\", graph=sess.graph)"
   ]
  },
  {
   "cell_type": "code",
   "execution_count": 11,
   "metadata": {},
   "outputs": [
    {
     "name": "stdout",
     "output_type": "stream",
     "text": [
      "Ending Accuracy = 0.98\n"
     ]
    }
   ],
   "source": [
    "# Evaluate Predictions\n",
    "predictions = []\n",
    "for i in range(len(x_vals)):\n",
    "    x_val = [x_vals[i]]\n",
    "    prediction = sess.run(tf.round(tf.sigmoid(my_output)), feed_dict={x_data: x_val})\n",
    "    predictions.append(prediction[0])\n",
    "    \n",
    "accuracy = sum(x==y for x,y in zip(predictions, y_vals))/100.\n",
    "print('Ending Accuracy = ' + str(np.round(accuracy, 2)))"
   ]
  },
  {
   "cell_type": "markdown",
   "metadata": {},
   "source": [
    "# Batch and Stochastic Training"
   ]
  },
  {
   "cell_type": "code",
   "execution_count": 25,
   "metadata": {},
   "outputs": [],
   "source": [
    "import matplotlib.pyplot as plt\n",
    "import numpy as np\n",
    "import tensorflow as tf\n",
    "from tensorflow.python.framework import ops\n",
    "ops.reset_default_graph()\n",
    "\n",
    "sess = tf.Session()"
   ]
  },
  {
   "cell_type": "code",
   "execution_count": 44,
   "metadata": {},
   "outputs": [],
   "source": [
    "x_vals = np.random.normal(1,0.1,100)\n",
    "y_vals = np.repeat(10., 100)"
   ]
  },
  {
   "cell_type": "code",
   "execution_count": 45,
   "metadata": {},
   "outputs": [],
   "source": [
    "# batch size\n",
    "batch_size = 25"
   ]
  },
  {
   "cell_type": "code",
   "execution_count": 37,
   "metadata": {},
   "outputs": [],
   "source": [
    "#Stochastic\n",
    "x_data = tf.placeholder(shape=[1], dtype=tf.float32)\n",
    "y_target = tf.placeholder(shape=[1], dtype=tf.float32)"
   ]
  },
  {
   "cell_type": "code",
   "execution_count": 46,
   "metadata": {},
   "outputs": [],
   "source": [
    "#Batch\n",
    "x_data = tf.placeholder(shape=[None,1], dtype=tf.float32)\n",
    "y_target = tf.placeholder(shape=[None,1], dtype=tf.float32)"
   ]
  },
  {
   "cell_type": "code",
   "execution_count": 47,
   "metadata": {},
   "outputs": [],
   "source": [
    "#creater variable\n",
    "A = tf.Variable(tf.random_normal([1,1]))\n",
    "\n",
    "#Add operation to Graph\n",
    "my_output = tf.multiply(A,x_data)"
   ]
  },
  {
   "cell_type": "code",
   "execution_count": 48,
   "metadata": {},
   "outputs": [],
   "source": [
    "#branch\n",
    "loss = tf.reduce_mean(tf.square(my_output-y_target))"
   ]
  },
  {
   "cell_type": "code",
   "execution_count": 39,
   "metadata": {},
   "outputs": [],
   "source": [
    "#Stochastci\n",
    "loss = tf.reduce_mean(tf.square(my_output-y_target))"
   ]
  },
  {
   "cell_type": "code",
   "execution_count": 49,
   "metadata": {},
   "outputs": [],
   "source": [
    "my_opt = tf.train.GradientDescentOptimizer(0.02)\n",
    "train_step = my_opt.minimize(loss)\n",
    "\n",
    "init = tf.global_variables_initializer()\n",
    "sess.run(init)"
   ]
  },
  {
   "cell_type": "code",
   "execution_count": 43,
   "metadata": {
    "scrolled": true
   },
   "outputs": [
    {
     "name": "stdout",
     "output_type": "stream",
     "text": [
      "Step #5 A = [[9.694591]]\n",
      "Loss = 0.421299\n",
      "Step #10 A = [[9.634617]]\n",
      "Loss = 0.25063843\n",
      "Step #15 A = [[9.737362]]\n",
      "Loss = 0.74494004\n",
      "Step #20 A = [[9.803516]]\n",
      "Loss = 0.13947438\n",
      "Step #25 A = [[9.832025]]\n",
      "Loss = 0.7710017\n",
      "Step #30 A = [[9.762782]]\n",
      "Loss = 0.9093565\n",
      "Step #35 A = [[9.910922]]\n",
      "Loss = 1.4587806\n",
      "Step #40 A = [[10.068194]]\n",
      "Loss = 0.955536\n",
      "Step #45 A = [[10.202137]]\n",
      "Loss = 2.2037344\n",
      "Step #50 A = [[10.179743]]\n",
      "Loss = 0.00036343417\n",
      "Step #55 A = [[10.14425]]\n",
      "Loss = 0.7056131\n",
      "Step #60 A = [[9.894482]]\n",
      "Loss = 5.789938\n",
      "Step #65 A = [[10.022634]]\n",
      "Loss = 0.8158463\n",
      "Step #70 A = [[9.9242]]\n",
      "Loss = 0.028903268\n",
      "Step #75 A = [[9.9075365]]\n",
      "Loss = 5.8689804\n",
      "Step #80 A = [[9.991504]]\n",
      "Loss = 0.4937265\n",
      "Step #85 A = [[10.000019]]\n",
      "Loss = 0.0035873586\n",
      "Step #90 A = [[10.0705185]]\n",
      "Loss = 0.17761579\n",
      "Step #95 A = [[9.97368]]\n",
      "Loss = 0.003955519\n",
      "Step #100 A = [[10.018008]]\n",
      "Loss = 0.02462911\n"
     ]
    }
   ],
   "source": [
    "loss_stochastic = []\n",
    "#Run loop\n",
    "for i in range(100):\n",
    "    rand_index = np.random.choice(100)\n",
    "    rand_x = [x_vals[rand_index]]\n",
    "    rand_y = [y_vals[rand_index]]\n",
    "    sess.run(train_step, feed_dict={x_data: rand_x, y_target:rand_y})\n",
    "    if (i+1)%5==0: \n",
    "        print('Step #' + str(i+1) + ' A = ' + str(sess.run(A)))\n",
    "        temp_loss = sess.run(loss, feed_dict={x_data: rand_x, y_target:rand_y})\n",
    "        print('Loss = '+ str(temp_loss))\n",
    "        loss_stochastic.append(temp_loss)"
   ]
  },
  {
   "cell_type": "code",
   "execution_count": 52,
   "metadata": {},
   "outputs": [
    {
     "name": "stdout",
     "output_type": "stream",
     "text": [
      "Step #5 A = [[9.815966]]\n",
      "Loss = 0.94210726\n",
      "Step #10 A = [[9.859261]]\n",
      "Loss = 1.5133262\n",
      "Step #15 A = [[9.890343]]\n",
      "Loss = 0.6406796\n",
      "Step #20 A = [[9.890558]]\n",
      "Loss = 1.0732363\n",
      "Step #25 A = [[9.914341]]\n",
      "Loss = 0.8740472\n",
      "Step #30 A = [[9.925289]]\n",
      "Loss = 1.1967031\n",
      "Step #35 A = [[9.917486]]\n",
      "Loss = 1.0038713\n",
      "Step #40 A = [[9.94003]]\n",
      "Loss = 0.99428993\n",
      "Step #45 A = [[9.976014]]\n",
      "Loss = 1.2429757\n",
      "Step #50 A = [[9.962028]]\n",
      "Loss = 1.1064446\n",
      "Step #55 A = [[10.009704]]\n",
      "Loss = 1.2434328\n",
      "Step #60 A = [[10.046473]]\n",
      "Loss = 0.67854303\n",
      "Step #65 A = [[10.052352]]\n",
      "Loss = 1.1424797\n",
      "Step #70 A = [[10.042659]]\n",
      "Loss = 0.70657057\n",
      "Step #75 A = [[10.026354]]\n",
      "Loss = 0.87378097\n",
      "Step #80 A = [[10.0251]]\n",
      "Loss = 1.190026\n",
      "Step #85 A = [[10.026072]]\n",
      "Loss = 1.6539545\n",
      "Step #90 A = [[9.99259]]\n",
      "Loss = 1.2045523\n",
      "Step #95 A = [[10.003049]]\n",
      "Loss = 1.193246\n",
      "Step #100 A = [[10.021001]]\n",
      "Loss = 1.1995126\n"
     ]
    }
   ],
   "source": [
    "loss_batch = []\n",
    "#Run loop\n",
    "for i in range(100):\n",
    "    rand_index = np.random.choice(100,size=batch_size)\n",
    "    rand_x = np.transpose([x_vals[rand_index]])\n",
    "    rand_y = np.transpose([y_vals[rand_index]])\n",
    "    sess.run(train_step, feed_dict={x_data: rand_x, y_target:rand_y})\n",
    "    if (i+1)%5==0: \n",
    "        print('Step #' + str(i+1) + ' A = ' + str(sess.run(A)))\n",
    "        temp_loss = sess.run(loss, feed_dict={x_data: rand_x, y_target:rand_y})\n",
    "        print('Loss = '+ str(temp_loss))\n",
    "        loss_batch.append(temp_loss)"
   ]
  },
  {
   "cell_type": "code",
   "execution_count": 53,
   "metadata": {},
   "outputs": [
    {
     "data": {
      "image/png": "[encoded data removed]",
      "text/plain": [
       "<Figure size 432x288 with 1 Axes>"
      ]
     },
     "metadata": {},
     "output_type": "display_data"
    }
   ],
   "source": [
    "\n",
    "\n",
    "plt.plot(range(0, 100, 5), loss_stochastic, 'b-', label='Stochastic Loss')\n",
    "plt.plot(range(0, 100, 5), loss_batch, 'r--', label='Batch Loss, size=20')\n",
    "plt.legend(loc='upper right', prop={'size': 11})\n",
    "plt.show()\n",
    "\n"
   ]
  },
  {
   "cell_type": "markdown",
   "metadata": {},
   "source": [
    "# Combining Everything Together"
   ]
  },
  {
   "cell_type": "code",
   "execution_count": 56,
   "metadata": {},
   "outputs": [],
   "source": [
    "import matplotlib.pyplot as plt\n",
    "import numpy as np\n",
    "from sklearn import datasets\n",
    "import tensorflow as tf\n",
    "from tensorflow.python.framework import ops\n",
    "ops.reset_default_graph()"
   ]
  },
  {
   "cell_type": "code",
   "execution_count": 58,
   "metadata": {},
   "outputs": [],
   "source": [
    "iris = datasets.load_iris()\n",
    "binary_target = np.array([1. if x==0 else 0. for x in iris.target])\n",
    "iris_2d = np.array([[x[2],x[3]] for x in iris.data])"
   ]
  },
  {
   "cell_type": "code",
   "execution_count": 59,
   "metadata": {},
   "outputs": [],
   "source": [
    "batch_size = 20"
   ]
  },
  {
   "cell_type": "code",
   "execution_count": 60,
   "metadata": {},
   "outputs": [],
   "source": [
    "sess = tf.Session()"
   ]
  },
  {
   "cell_type": "code",
   "execution_count": 61,
   "metadata": {},
   "outputs": [],
   "source": [
    "x1_data = tf.placeholder(shape=[None, 1],dtype = tf.float32)\n",
    "x2_data = tf.placeholder(shape = [None, 1],dtype = tf.float32)\n",
    "y_target = tf.placeholder(shape=[None, 1],dtype = tf.float32)"
   ]
  },
  {
   "cell_type": "code",
   "execution_count": 62,
   "metadata": {},
   "outputs": [],
   "source": [
    "A = tf.Variable(tf.random_normal(shape=[1,1]))\n",
    "b = tf.Variable(tf.random_normal(shape=[1,1]))"
   ]
  },
  {
   "cell_type": "code",
   "execution_count": 64,
   "metadata": {},
   "outputs": [],
   "source": [
    "my_mult = tf.matmul(x2_data, A)\n",
    "my_add = tf.add(my_mult, b)\n",
    "my_output = tf.subtract(x1_data, my_add)"
   ]
  },
  {
   "cell_type": "code",
   "execution_count": 66,
   "metadata": {},
   "outputs": [],
   "source": [
    "xentropy = tf.nn.sigmoid_cross_entropy_with_logits(logits = my_output, labels = y_target)"
   ]
  },
  {
   "cell_type": "code",
   "execution_count": 67,
   "metadata": {},
   "outputs": [],
   "source": [
    "# Create Optimizer\n",
    "my_opt = tf.train.GradientDescentOptimizer(0.05)\n",
    "train_step = my_opt.minimize(xentropy)\n",
    "\n",
    "# Initialize variables\n",
    "init = tf.global_variables_initializer()\n",
    "sess.run(init)"
   ]
  },
  {
   "cell_type": "code",
   "execution_count": 68,
   "metadata": {},
   "outputs": [
    {
     "name": "stdout",
     "output_type": "stream",
     "text": [
      "Step #200 A = [[8.617271]], b = [[-3.5556073]]\n",
      "Step #400 A = [[10.172587]], b = [[-4.6411014]]\n",
      "Step #600 A = [[11.167778]], b = [[-5.3650904]]\n",
      "Step #800 A = [[11.855836]], b = [[-5.9206367]]\n",
      "Step #1000 A = [[12.434562]], b = [[-6.355086]]\n"
     ]
    }
   ],
   "source": [
    "# Run Loop\n",
    "for i in range(1000):\n",
    "    rand_index = np.random.choice(len(iris_2d), size=batch_size)\n",
    "    #rand_x = np.transpose([iris_2d[rand_index]])\n",
    "    rand_x = iris_2d[rand_index]\n",
    "    rand_x1 = np.array([[x[0]] for x in rand_x])\n",
    "    rand_x2 = np.array([[x[1]] for x in rand_x])\n",
    "    #rand_y = np.transpose([binary_target[rand_index]])\n",
    "    rand_y = np.array([[y] for y in binary_target[rand_index]])\n",
    "    sess.run(train_step, feed_dict={x1_data: rand_x1, x2_data: rand_x2, y_target: rand_y})\n",
    "    if (i+1)%200==0:\n",
    "        print('Step #' + str(i+1) + ' A = ' + str(sess.run(A)) + ', b = ' + str(sess.run(b)))"
   ]
  },
  {
   "cell_type": "code",
   "execution_count": 69,
   "metadata": {},
   "outputs": [
    {
     "data": {
      "image/png": "[encoded data removed]",
      "text/plain": [
       "<Figure size 432x288 with 1 Axes>"
      ]
     },
     "metadata": {},
     "output_type": "display_data"
    }
   ],
   "source": [
    "# Pull out slope/intercept\n",
    "[[slope]] = sess.run(A)\n",
    "[[intercept]] = sess.run(b)\n",
    "\n",
    "# Create fitted line\n",
    "x = np.linspace(0, 3, num=50)\n",
    "ablineValues = []\n",
    "for i in x:\n",
    "  ablineValues.append(slope*i+intercept)\n",
    "\n",
    "# Plot the fitted line over the data\n",
    "setosa_x = [a[1] for i,a in enumerate(iris_2d) if binary_target[i]==1]\n",
    "setosa_y = [a[0] for i,a in enumerate(iris_2d) if binary_target[i]==1]\n",
    "non_setosa_x = [a[1] for i,a in enumerate(iris_2d) if binary_target[i]==0]\n",
    "non_setosa_y = [a[0] for i,a in enumerate(iris_2d) if binary_target[i]==0]\n",
    "plt.plot(setosa_x, setosa_y, 'rx', ms=10, mew=2, label='setosa')\n",
    "plt.plot(non_setosa_x, non_setosa_y, 'ro', label='Non-setosa')\n",
    "plt.plot(x, ablineValues, 'b-')\n",
    "plt.xlim([0.0, 2.7])\n",
    "plt.ylim([0.0, 7.1])\n",
    "plt.suptitle('Linear Separator For I.setosa', fontsize=20)\n",
    "plt.xlabel('Petal Length')\n",
    "plt.ylabel('Petal Width')\n",
    "plt.legend(loc='lower right')\n",
    "plt.show()"
   ]
  },
  {
   "cell_type": "code",
   "execution_count": null,
   "metadata": {},
   "outputs": [],
   "source": []
  }
 ],
 "metadata": {
  "kernelspec": {
   "display_name": "Python 3",
   "language": "python",
   "name": "python3"
  },
  "language_info": {
   "codemirror_mode": {
    "name": "ipython",
    "version": 3
   },
   "file_extension": ".py",
   "mimetype": "text/x-python",
   "name": "python",
   "nbconvert_exporter": "python",
   "pygments_lexer": "ipython3",
   "version": "3.5.5"
  }
 },
 "nbformat": 4,
 "nbformat_minor": 2
}
