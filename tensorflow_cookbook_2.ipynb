{
 "cells": [
  {
   "cell_type": "code",
   "execution_count": 1,
   "metadata": {},
   "outputs": [],
   "source": [
    "import matplotlib.pyplot as plt\n",
    "import numpy as np\n",
    "import tensorflow as tf\n",
    "from sklearn import datasets\n",
    "from tensorflow.python.framework import ops\n",
    "ops.reset_default_graph()"
   ]
  },
  {
   "cell_type": "code",
   "execution_count": 2,
   "metadata": {},
   "outputs": [],
   "source": [
    "sess = tf.Session()"
   ]
  },
  {
   "cell_type": "code",
   "execution_count": 3,
   "metadata": {},
   "outputs": [],
   "source": [
    "x_vals = np.concatenate((np.random.normal(-1,1,50), np.random.normal(3,1,50)))\n",
    "y_vals = np.concatenate((np.repeat(0,50), np.repeat(1,50)))\n",
    "x_data = tf.placeholder(shape=[1], dtype=tf.float32)\n",
    "y_target = tf.placeholder(shape=[1], dtype=tf.float32)"
   ]
  },
  {
   "cell_type": "code",
   "execution_count": 4,
   "metadata": {},
   "outputs": [],
   "source": [
    "# Create variable (one model parameter = A)\n",
    "A = tf.Variable(tf.random_normal(mean = 10, shape=[1]),name='A')"
   ]
  },
  {
   "cell_type": "code",
   "execution_count": 5,
   "metadata": {},
   "outputs": [],
   "source": [
    "#Add operation to graph\n",
    "my_output = tf.add(x_data,A)\n",
    "my_output_expaneded = tf.expand_dims(my_output,0)\n",
    "y_target_expanded = tf.expand_dims(y_target,0)"
   ]
  },
  {
   "cell_type": "code",
   "execution_count": 6,
   "metadata": {},
   "outputs": [],
   "source": [
    "# Add L2 loss operation to graph\n",
    "xentropy = tf.nn.sigmoid_cross_entropy_with_logits(logits = my_output_expaneded, labels  = y_target_expanded)\n",
    "# xentropy = tf.nn.sigmoid_cross_entropy_with_logits(my_output_expaneded, y_target_expanded)"
   ]
  },
  {
   "cell_type": "code",
   "execution_count": 7,
   "metadata": {},
   "outputs": [],
   "source": [
    "# Initialize variables\n",
    "init = tf.global_variables_initializer()\n",
    "sess.run(init)"
   ]
  },
  {
   "cell_type": "code",
   "execution_count": 8,
   "metadata": {},
   "outputs": [],
   "source": [
    "# Create Optimizer\n",
    "my_opt = tf.train.GradientDescentOptimizer(0.05)\n",
    "train_step = my_opt.minimize(xentropy)"
   ]
  },
  {
   "cell_type": "code",
   "execution_count": 13,
   "metadata": {},
   "outputs": [
    {
     "name": "stdout",
     "output_type": "stream",
     "text": [
      "Step #1000 A = [-0.94632906]\n",
      "[[-2.2125757]]\n",
      "Loss = [[0.10383597]]\n",
      "Step #2000 A = [-0.77138245]\n",
      "[[2.8525019]]\n",
      "Loss = [[0.05609653]]\n",
      "Step #3000 A = [-0.84859204]\n",
      "[[-2.2878764]]\n",
      "Loss = [[0.09665632]]\n",
      "Step #4000 A = [-0.8547955]\n",
      "[[0.62573034]]\n",
      "Loss = [[0.42844608]]\n",
      "Step #5000 A = [-0.82447124]\n",
      "[[-3.3273764]]\n",
      "Loss = [[0.0352582]]\n",
      "Step #6000 A = [-0.86221004]\n",
      "[[2.5999]]\n",
      "Loss = [[0.07165161]]\n",
      "Step #7000 A = [-0.8221543]\n",
      "[[-1.3405715]]\n",
      "Loss = [[0.23245688]]\n",
      "Step #8000 A = [-0.72173154]\n",
      "[[3.5645351]]\n",
      "Loss = [[0.02791682]]\n",
      "Step #9000 A = [-0.71180016]\n",
      "[[-2.6065784]]\n",
      "Loss = [[0.07119127]]\n",
      "Step #10000 A = [-0.6781583]\n",
      "[[1.7882748]]\n",
      "Loss = [[0.15464923]]\n"
     ]
    }
   ],
   "source": [
    "#Run loop\n",
    "for i in range (10000):\n",
    "    rand_index = np.random.choice(100)\n",
    "    rand_x = [x_vals[rand_index]]\n",
    "    rand_y = [y_vals[rand_index]]\n",
    "    sess.run(train_step, feed_dict={x_data: rand_x,y_target: rand_y})\n",
    "    if (i+1)%1000 == 0:\n",
    "        print('Step #' + str(i+1) + ' A = ' + str(sess.run(A)))\n",
    "        print(sess.run(my_output_expaneded, feed_dict={x_data: rand_x, y_target:rand_y}))\n",
    "        print('Loss = '+ str(sess.run(xentropy, feed_dict={x_data: rand_x, y_target:rand_y})))"
   ]
  },
  {
   "cell_type": "code",
   "execution_count": 10,
   "metadata": {},
   "outputs": [],
   "source": [
    "# Add summaries to tensorboard\n",
    "merged = tf.summary.merge_all()\n",
    "\n",
    "# Initialize graph writer:\n",
    "writer = tf.summary.FileWriter(\"/tmp/log\", graph=sess.graph)"
   ]
  },
  {
   "cell_type": "code",
   "execution_count": 11,
   "metadata": {},
   "outputs": [
    {
     "name": "stdout",
     "output_type": "stream",
     "text": [
      "Ending Accuracy = 0.99\n"
     ]
    }
   ],
   "source": [
    "# Evaluate Predictions\n",
    "predictions = []\n",
    "for i in range(len(x_vals)):\n",
    "    x_val = [x_vals[i]]\n",
    "    prediction = sess.run(tf.round(tf.sigmoid(my_output)), feed_dict={x_data: x_val})\n",
    "    predictions.append(prediction[0])\n",
    "    \n",
    "accuracy = sum(x==y for x,y in zip(predictions, y_vals))/100.\n",
    "print('Ending Accuracy = ' + str(np.round(accuracy, 2)))"
   ]
  },
  {
   "cell_type": "markdown",
   "metadata": {},
   "source": [
    "# Batch and Stochastic Training"
   ]
  },
  {
   "cell_type": "code",
   "execution_count": 14,
   "metadata": {},
   "outputs": [],
   "source": [
    "import matplotlib.pyplot as plt\n",
    "import numpy as np\n",
    "import tensorflow as tf\n",
    "from tensorflow.python.framework import ops\n",
    "ops.reset_default_graph()\n",
    "\n",
    "sess = tf.Session()"
   ]
  },
  {
   "cell_type": "code",
   "execution_count": 16,
   "metadata": {},
   "outputs": [],
   "source": [
    "x_vals = np.random.normal(1,0.1,100)\n",
    "y_vals = np.repeat(10., 100)\n",
    "\n",
    "x_data = tf.placeholder(shape=[1], dtype=tf.float32)\n",
    "y_target = tf.placeholder(shape=[1], dtype=tf.float32)"
   ]
  },
  {
   "cell_type": "code",
   "execution_count": 20,
   "metadata": {},
   "outputs": [],
   "source": [
    "#creater variable\n",
    "A = tf.Variable(tf.random_normal([1]))\n",
    "\n",
    "#Add operation to Graph\n",
    "my_output = tf.multiply(A,x_data)"
   ]
  },
  {
   "cell_type": "code",
   "execution_count": 21,
   "metadata": {},
   "outputs": [],
   "source": [
    "loss = tf.square(my_output-y_target)"
   ]
  },
  {
   "cell_type": "code",
   "execution_count": 22,
   "metadata": {},
   "outputs": [],
   "source": [
    "my_opt = tf.train.GradientDescentOptimizer(0.02)\n",
    "train_step = my_opt.minimize(loss)\n",
    "\n",
    "init = tf.global_variables_initializer()\n",
    "sess.run(init)"
   ]
  },
  {
   "cell_type": "code",
   "execution_count": null,
   "metadata": {},
   "outputs": [],
   "source": [
    "loss_stochastic = []\n",
    "#Run loop\n",
    "for i in range(100):\n",
    "    rand_index = np.random.choice(100)\n",
    "    rand_x = [x_vals[rand_index]]\n",
    "    rand_y = [y_vals[rand_index]]\n",
    "    sess.run(train_strp, feed_dict={x_data: rand_x, y})"
   ]
  }
 ],
 "metadata": {
  "kernelspec": {
   "display_name": "Python 3",
   "language": "python",
   "name": "python3"
  },
  "language_info": {
   "codemirror_mode": {
    "name": "ipython",
    "version": 3
   },
   "file_extension": ".py",
   "mimetype": "text/x-python",
   "name": "python",
   "nbconvert_exporter": "python",
   "pygments_lexer": "ipython3",
   "version": "3.5.5"
  }
 },
 "nbformat": 4,
 "nbformat_minor": 2
}
